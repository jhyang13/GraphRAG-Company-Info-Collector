{
 "cells": [
  {
   "cell_type": "code",
   "execution_count": 53,
   "metadata": {},
   "outputs": [],
   "source": [
    "#!pip install neo4j langchain pandas\n",
    "\n",
    "import os\n",
    "import json\n",
    "import pandas as pd\n",
    "from neo4j import GraphDatabase\n",
    "import logging"
   ]
  },
  {
   "cell_type": "code",
   "execution_count": 54,
   "metadata": {},
   "outputs": [],
   "source": [
    "# Set up Neo4j database connection\n",
    "class Neo4jConnection:\n",
    "    def __init__(self, uri, user, password):\n",
    "        self.driver = GraphDatabase.driver(uri, auth=(user, password))\n",
    "\n",
    "    def close(self):\n",
    "        self.driver.close()\n",
    "\n",
    "    def query(self, query, parameters=None):\n",
    "        with self.driver.session() as session:\n",
    "            result = session.run(query, parameters)\n",
    "            return [record for record in result]\n",
    "\n",
    "# Initialize database connection\n",
    "neo4j_conn = Neo4jConnection(uri=\"bolt://localhost:7687\", user=\"neo4j\", password=\"neo4j\")"
   ]
  },
  {
   "cell_type": "code",
   "execution_count": 55,
   "metadata": {},
   "outputs": [
    {
     "data": {
      "text/plain": [
       "[]"
      ]
     },
     "execution_count": 55,
     "metadata": {},
     "output_type": "execute_result"
    }
   ],
   "source": [
    "# Clear all nodes and relationships from the database\n",
    "neo4j_conn.query(\"MATCH (n) DETACH DELETE n\")"
   ]
  },
  {
   "cell_type": "code",
   "execution_count": 56,
   "metadata": {},
   "outputs": [],
   "source": [
    "# Load manager and company data from CSV\n",
    "csv_file_path = r'C:/Users/jhyang/OneDrive/文档/GitHub_Projects/GraphRAG-Company-Info-Collector/resources/form13.csv'\n",
    "df_csv = pd.read_csv(csv_file_path, nrows=10000)"
   ]
  },
  {
   "cell_type": "code",
   "execution_count": 57,
   "metadata": {},
   "outputs": [],
   "source": [
    "# Create Manager and Company nodes with relationships from CSV data\n",
    "for _, row in df_csv.iterrows():\n",
    "    manager_name = row['managerName']\n",
    "    manager_cik = row['managerCik']\n",
    "    manager_address = row['managerAddress']\n",
    "    \n",
    "    company_name = row['companyName']\n",
    "    cusip6 = row['cusip6']\n",
    "    cusip = row['cusip']\n",
    "    \n",
    "    value = row['value']\n",
    "    shares = row['shares']\n",
    "    report_calendar_or_quarter = row['reportCalendarOrQuarter']\n",
    "    \n",
    "    # Create Manager node\n",
    "    neo4j_conn.query(\n",
    "        \"\"\"\n",
    "        MERGE (m:Manager {name: $manager_name})\n",
    "        SET m.cik = $manager_cik, m.address = $manager_address\n",
    "        RETURN m\n",
    "        \"\"\",\n",
    "        parameters={\n",
    "            \"manager_name\": manager_name,\n",
    "            \"manager_cik\": manager_cik,\n",
    "            \"manager_address\": manager_address\n",
    "        }\n",
    "    )\n",
    "    \n",
    "    # Create Company node\n",
    "    neo4j_conn.query(\n",
    "        \"\"\"\n",
    "        MERGE (c:Company {name: $company_name})\n",
    "        SET c.cusip6 = $cusip6, c.cusip = $cusip\n",
    "        RETURN c\n",
    "        \"\"\",\n",
    "        parameters={\n",
    "            \"company_name\": company_name,\n",
    "            \"cusip6\": cusip6,\n",
    "            \"cusip\": cusip\n",
    "        }\n",
    "    )\n",
    "    \n",
    "    # Create relationship HOLDS with properties\n",
    "    neo4j_conn.query(\n",
    "        \"\"\"\n",
    "        MATCH (m:Manager {name: $manager_name})\n",
    "        MATCH (c:Company {name: $company_name})\n",
    "        MERGE (m)-[r:HOLDS]->(c)\n",
    "        SET r.value = $value, r.shares = $shares, r.reportCalendarOrQuarter = $report_calendar_or_quarter\n",
    "        RETURN r\n",
    "        \"\"\",\n",
    "        parameters={\n",
    "            \"manager_name\": manager_name,\n",
    "            \"company_name\": company_name,\n",
    "            \"value\": value,\n",
    "            \"shares\": shares,\n",
    "            \"report_calendar_or_quarter\": report_calendar_or_quarter\n",
    "        }\n",
    "    )"
   ]
  },
  {
   "cell_type": "code",
   "execution_count": 58,
   "metadata": {},
   "outputs": [],
   "source": [
    "# Define the maximum number of JSON files to import\n",
    "max_files_to_import = 142\n",
    "imported_files_count = 0"
   ]
  },
  {
   "cell_type": "code",
   "execution_count": 59,
   "metadata": {},
   "outputs": [],
   "source": [
    "# Set up logging with detailed information about each operation\n",
    "logging.basicConfig(filename='import_log.log', level=logging.INFO, format='%(asctime)s - %(levelname)s - %(message)s')"
   ]
  },
  {
   "cell_type": "code",
   "execution_count": 60,
   "metadata": {},
   "outputs": [],
   "source": [
    "# Directory for processing JSON files\n",
    "json_dir_path = r'C:/Users/jhyang/OneDrive/文档/GitHub_Projects/GraphRAG-Company-Info-Collector/resources/form10k'"
   ]
  },
  {
   "cell_type": "code",
   "execution_count": 61,
   "metadata": {},
   "outputs": [],
   "source": [
    "for json_file in os.listdir(json_dir_path):\n",
    "    if json_file.endswith('.json') and imported_files_count < max_files_to_import:\n",
    "        try:\n",
    "            with open(os.path.join(json_dir_path, json_file), 'r', encoding='utf-8') as f:\n",
    "                data = json.load(f)\n",
    "            \n",
    "            # Extract company data\n",
    "            company_name = data.get(\"companyName\", \"Unknown Company\")\n",
    "            business_overview = data.get(\"item1\", \"\")\n",
    "            address = data.get(\"address\", \"\")\n",
    "            \n",
    "            # Check if the Company node exists\n",
    "            existing_company = neo4j_conn.query(\n",
    "                \"\"\"\n",
    "                MATCH (c:Company {name: $company_name})\n",
    "                RETURN c\n",
    "                \"\"\",\n",
    "                parameters={\"company_name\": company_name}\n",
    "            )\n",
    "            \n",
    "            # If the company exists, log and update it, otherwise create it\n",
    "            if existing_company:\n",
    "                logging.info(f\"Company {company_name} already exists, updating information.\")\n",
    "                neo4j_conn.query(\n",
    "                    \"\"\"\n",
    "                    MATCH (c:Company {name: $company_name})\n",
    "                    SET c.businessOverview = COALESCE(c.businessOverview, $business_overview),\n",
    "                        c.address = COALESCE(c.address, $address)\n",
    "                    RETURN c\n",
    "                    \"\"\",\n",
    "                    parameters={\n",
    "                        \"company_name\": company_name,\n",
    "                        \"business_overview\": business_overview,\n",
    "                        \"address\": address\n",
    "                    }\n",
    "                )\n",
    "            else:\n",
    "                logging.info(f\"Company {company_name} does not exist, creating new node.\")\n",
    "                neo4j_conn.query(\n",
    "                    \"\"\"\n",
    "                    CREATE (c:Company {name: $company_name, businessOverview: $business_overview, address: $address})\n",
    "                    RETURN c\n",
    "                    \"\"\",\n",
    "                    parameters={\n",
    "                        \"company_name\": company_name,\n",
    "                        \"business_overview\": business_overview,\n",
    "                        \"address\": address\n",
    "                    }\n",
    "                )\n",
    "            \n",
    "            # Process subsidiary information\n",
    "            subsidiaries = data.get(\"subsidiaries\", [])\n",
    "            for sub in subsidiaries:\n",
    "                sub_name = sub.get(\"name\", \"Unknown Subsidiary\")\n",
    "                \n",
    "                # Check if the Subsidiary node and relationship already exist\n",
    "                existing_sub = neo4j_conn.query(\n",
    "                    \"\"\"\n",
    "                    MATCH (c:Company {name: $company_name})-[:OWNS]->(s:Subsidiary {name: $sub_name})\n",
    "                    RETURN s\n",
    "                    \"\"\",\n",
    "                    parameters={\n",
    "                        \"company_name\": company_name,\n",
    "                        \"sub_name\": sub_name\n",
    "                    }\n",
    "                )\n",
    "                \n",
    "                # If the subsidiary relationship doesn't exist, create it\n",
    "                if existing_sub:\n",
    "                    logging.info(f\"Subsidiary {sub_name} under company {company_name} already exists.\")\n",
    "                else:\n",
    "                    logging.info(f\"Creating subsidiary {sub_name} under company {company_name}.\")\n",
    "                    neo4j_conn.query(\n",
    "                        \"\"\"\n",
    "                        MERGE (s:Subsidiary {name: $sub_name})\n",
    "                        WITH s\n",
    "                        MATCH (c:Company {name: $company_name})\n",
    "                        MERGE (c)-[:OWNS]->(s)\n",
    "                        RETURN s\n",
    "                        \"\"\",\n",
    "                        parameters={\n",
    "                            \"sub_name\": sub_name,\n",
    "                            \"company_name\": company_name\n",
    "                        }\n",
    "                    )\n",
    "\n",
    "            # Increment the file count after processing\n",
    "            imported_files_count += 1\n",
    "\n",
    "        except Exception as e:\n",
    "            logging.error(f\"Error processing file {json_file} for company {company_name}: {e}\")\n",
    "        \n",
    "        # Stop if the maximum file count is reached\n",
    "        if imported_files_count >= max_files_to_import:\n",
    "            break"
   ]
  },
  {
   "cell_type": "code",
   "execution_count": 62,
   "metadata": {},
   "outputs": [],
   "source": [
    "# Close the database connection\n",
    "neo4j_conn.close()"
   ]
  }
 ],
 "metadata": {
  "kernelspec": {
   "display_name": "base",
   "language": "python",
   "name": "python3"
  },
  "language_info": {
   "codemirror_mode": {
    "name": "ipython",
    "version": 3
   },
   "file_extension": ".py",
   "mimetype": "text/x-python",
   "name": "python",
   "nbconvert_exporter": "python",
   "pygments_lexer": "ipython3",
   "version": "3.12.4"
  }
 },
 "nbformat": 4,
 "nbformat_minor": 2
}
