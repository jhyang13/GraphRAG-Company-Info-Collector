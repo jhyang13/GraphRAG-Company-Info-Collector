{
 "cells": [
  {
   "cell_type": "code",
   "execution_count": null,
   "metadata": {},
   "outputs": [],
   "source": [
    "import json\n",
    "import pandas as pd\n",
    "from neo4j import GraphDatabase"
   ]
  },
  {
   "cell_type": "markdown",
   "metadata": {},
   "source": [
    "Only read from excel file, then create company and manager nodes"
   ]
  },
  {
   "cell_type": "code",
   "execution_count": 9,
   "metadata": {},
   "outputs": [],
   "source": [
    "# Set up Neo4j database connection\n",
    "class Neo4jConnection:\n",
    "    def __init__(self, uri, user, password):\n",
    "        self.driver = GraphDatabase.driver(uri, auth=(user, password))\n",
    "\n",
    "    def close(self):\n",
    "        self.driver.close()\n",
    "\n",
    "    def query(self, query, parameters=None):\n",
    "        with self.driver.session() as session:\n",
    "            result = session.run(query, parameters)\n",
    "            return [record for record in result]"
   ]
  },
  {
   "cell_type": "code",
   "execution_count": 10,
   "metadata": {},
   "outputs": [],
   "source": [
    "# Initialize database connection\n",
    "neo4j_conn = Neo4jConnection(uri=\"bolt://localhost:7687\", user=\"neo4j\", password=\"neo4j\")"
   ]
  },
  {
   "cell_type": "code",
   "execution_count": 11,
   "metadata": {},
   "outputs": [
    {
     "data": {
      "text/plain": [
       "[]"
      ]
     },
     "execution_count": 11,
     "metadata": {},
     "output_type": "execute_result"
    }
   ],
   "source": [
    "# Clear all nodes and relationships from the database\n",
    "neo4j_conn.query(\"MATCH (n) DETACH DELETE n\")"
   ]
  },
  {
   "cell_type": "code",
   "execution_count": 12,
   "metadata": {},
   "outputs": [],
   "source": [
    "# Load manager and company data from CSV\n",
    "# Limited 100 search\n",
    "csv_file_path = r'C:/Users/jhyang/OneDrive/文档/GitHub_Projects/GraphRAG-Company-Info-Collector/resources/form13.csv'\n",
    "df_csv = pd.read_csv(csv_file_path, nrows=300)"
   ]
  },
  {
   "cell_type": "code",
   "execution_count": null,
   "metadata": {},
   "outputs": [],
   "source": [
    "# Create Manager and Company nodes with relationships\n",
    "for _, row in df_csv.iterrows():\n",
    "    manager_name = row['managerName']\n",
    "    manager_cik = row['managerCik']\n",
    "    manager_address = row['managerAddress']\n",
    "    \n",
    "    company_name = row['companyName']\n",
    "    cusip6 = row['cusip6']\n",
    "    cusip = row['cusip']\n",
    "    \n",
    "    value = row['value']\n",
    "    shares = row['shares']\n",
    "    report_calendar_or_quarter = row['reportCalendarOrQuarter']\n",
    "    \n",
    "    # Create Manager node\n",
    "    neo4j_conn.query(\n",
    "        \"\"\"\n",
    "        MERGE (m:Manager {name: $manager_name})\n",
    "        SET m.cik = $manager_cik, m.address = $manager_address\n",
    "        RETURN m\n",
    "        \"\"\",\n",
    "        parameters={\n",
    "            \"manager_name\": manager_name,\n",
    "            \"manager_cik\": manager_cik,\n",
    "            \"manager_address\": manager_address\n",
    "        }\n",
    "    )\n",
    "    \n",
    "    # Create Company node\n",
    "    neo4j_conn.query(\n",
    "        \"\"\"\n",
    "        MERGE (c:Company {name: $company_name})\n",
    "        SET c.cusip6 = $cusip6, c.cusip = $cusip\n",
    "        RETURN c\n",
    "        \"\"\",\n",
    "        parameters={\n",
    "            \"company_name\": company_name,\n",
    "            \"cusip6\": cusip6,\n",
    "            \"cusip\": cusip\n",
    "        }\n",
    "    )\n",
    "    \n",
    "    # Create relationship HOLDS with properties\n",
    "    neo4j_conn.query(\n",
    "        \"\"\"\n",
    "        MATCH (m:Manager {name: $manager_name})\n",
    "        MATCH (c:Company {name: $company_name})\n",
    "        MERGE (m)-[r:HOLDS]->(c)\n",
    "        SET r.value = $value, r.shares = $shares, r.reportCalendarOrQuarter = $report_calendar_or_quarter\n",
    "        RETURN r\n",
    "        \"\"\",\n",
    "        parameters={\n",
    "            \"manager_name\": manager_name,\n",
    "            \"company_name\": company_name,\n",
    "            \"value\": value,\n",
    "            \"shares\": shares,\n",
    "            \"report_calendar_or_quarter\": report_calendar_or_quarter\n",
    "        }\n",
    "    )\n"
   ]
  },
  {
   "cell_type": "code",
   "execution_count": 14,
   "metadata": {},
   "outputs": [],
   "source": [
    "# Close the database connection\n",
    "neo4j_conn.close()"
   ]
  },
  {
   "cell_type": "markdown",
   "metadata": {},
   "source": [
    "### 1. View All Manager Nodes\n",
    "\n",
    "    MATCH (m:Manager)\n",
    "    \n",
    "    RETURN m.name AS ManagerName, m.cik AS CIK, m.address AS Address\n",
    "\n",
    "### 2. View All Company Nodes\n",
    "\n",
    "    MATCH (c:Company)\n",
    "\n",
    "    RETURN c.name AS CompanyName, c.cusip6 AS CUSIP6, c.cusip AS CUSIP\n",
    "\n",
    "### 3. Count Manager and Company Nodes\n",
    "\n",
    "    MATCH (m:Manager)\n",
    "\n",
    "    RETURN count(m) AS ManagerCount\n",
    "\n",
    "    MATCH (c:Company)\n",
    "\n",
    "    RETURN count(c) AS CompanyCount"
   ]
  }
 ],
 "metadata": {
  "kernelspec": {
   "display_name": "base",
   "language": "python",
   "name": "python3"
  },
  "language_info": {
   "codemirror_mode": {
    "name": "ipython",
    "version": 3
   },
   "file_extension": ".py",
   "mimetype": "text/x-python",
   "name": "python",
   "nbconvert_exporter": "python",
   "pygments_lexer": "ipython3",
   "version": "3.12.4"
  }
 },
 "nbformat": 4,
 "nbformat_minor": 2
}
