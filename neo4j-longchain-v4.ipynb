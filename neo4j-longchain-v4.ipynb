{
 "cells": [
  {
   "cell_type": "code",
   "execution_count": 5,
   "metadata": {},
   "outputs": [],
   "source": [
    "import os\n",
    "from langchain.graphs import Neo4jGraph\n",
    "from langchain.chat_models import ChatOpenAI\n",
    "from langchain.prompts import PromptTemplate\n",
    "from langchain.chains import GraphCypherQAChain"
   ]
  },
  {
   "cell_type": "code",
   "execution_count": null,
   "metadata": {},
   "outputs": [],
   "source": [
    "# Set environment variables for OpenAI API key\n",
    "os.environ[\"OPENAI_API_KEY\"] = \"your_openai_api_key\"\n",
    "\n",
    "# Configure Neo4j graph connection\n",
    "neo4j_graph = Neo4jGraph(\n",
    "    url=\"bolt://localhost:7687\",  # Adjust if hosted elsewhere\n",
    "    username=\"neo4j\",\n",
    "    password=\"neo4j\"\n",
    ")\n",
    "\n",
    "# Initialize OpenAI model\n",
    "llm = ChatOpenAI(model=\"gpt-4o\", temperature=0)"
   ]
  },
  {
   "cell_type": "code",
   "execution_count": null,
   "metadata": {},
   "outputs": [],
   "source": [
    "# Example Cypher query: Fetch companies managed by a specific manager\n",
    "cypher_query = \"\"\"\n",
    "MATCH (m:Manager {name: $manager_name})-[:HOLDS]->(c:Company)\n",
    "RETURN c.name AS company_name, c.cusip6 AS cusip6, c.cusip AS cusip\n",
    "\"\"\"\n",
    "\n",
    "# Execute the Cypher query with a manager's name\n",
    "manager_name = \"Royal Bank of Canada\"\n",
    "results = neo4j_graph.query(cypher_query, parameters={\"manager_name\": manager_name})\n",
    "\n",
    "# Print results\n",
    "print(\"Companies managed by:\", manager_name)\n",
    "for result in results:\n",
    "    print(result[\"company_name\"], \"-\", result[\"cusip6\"], \"-\", result[\"cusip\"])"
   ]
  },
  {
   "cell_type": "code",
   "execution_count": null,
   "metadata": {},
   "outputs": [],
   "source": [
    "# Create a GraphCypherQAChain for LLM-powered Cypher querying\n",
    "graph_qa_chain = GraphCypherQAChain.from_llm(llm, graph=neo4j_graph)\n",
    "\n",
    "# Example question for the LLM\n",
    "question = \"Which companies does John Doe manage, and what are their CUSIP6 numbers?\"\n",
    "\n",
    "# Use the LLM to interpret the question, run the query, and generate insights\n",
    "response = graph_qa_chain.run(question)\n",
    "print(response)"
   ]
  }
 ],
 "metadata": {
  "kernelspec": {
   "display_name": "base",
   "language": "python",
   "name": "python3"
  },
  "language_info": {
   "codemirror_mode": {
    "name": "ipython",
    "version": 3
   },
   "file_extension": ".py",
   "mimetype": "text/x-python",
   "name": "python",
   "nbconvert_exporter": "python",
   "pygments_lexer": "ipython3",
   "version": "3.12.4"
  }
 },
 "nbformat": 4,
 "nbformat_minor": 2
}
